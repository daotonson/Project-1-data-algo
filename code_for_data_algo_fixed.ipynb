{
  "cells": [
    {
      "cell_type": "code",
      "execution_count": null,
      "metadata": {
        "colab": {
          "base_uri": "https://localhost:8080/"
        },
        "id": "nxSJss-08W6A",
        "outputId": "293c5469-0d2a-43fa-85a8-f35cfa237599"
      },
      "outputs": [
        {
          "output_type": "stream",
          "name": "stdout",
          "text": [
            "Collecting datasketch\n",
            "  Downloading datasketch-1.6.5-py3-none-any.whl.metadata (5.8 kB)\n",
            "Requirement already satisfied: numpy>=1.11 in /usr/local/lib/python3.11/dist-packages (from datasketch) (2.0.2)\n",
            "Requirement already satisfied: scipy>=1.0.0 in /usr/local/lib/python3.11/dist-packages (from datasketch) (1.15.3)\n",
            "Downloading datasketch-1.6.5-py3-none-any.whl (89 kB)\n",
            "\u001b[2K   \u001b[90m━━━━━━━━━━━━━━━━━━━━━━━━━━━━━━━━━━━━━━━━\u001b[0m \u001b[32m89.2/89.2 kB\u001b[0m \u001b[31m2.3 MB/s\u001b[0m eta \u001b[36m0:00:00\u001b[0m\n",
            "\u001b[?25hInstalling collected packages: datasketch\n",
            "Successfully installed datasketch-1.6.5\n",
            "Requirement already satisfied: kagglehub in /usr/local/lib/python3.11/dist-packages (0.3.12)\n",
            "Requirement already satisfied: packaging in /usr/local/lib/python3.11/dist-packages (from kagglehub) (24.2)\n",
            "Requirement already satisfied: pyyaml in /usr/local/lib/python3.11/dist-packages (from kagglehub) (6.0.2)\n",
            "Requirement already satisfied: requests in /usr/local/lib/python3.11/dist-packages (from kagglehub) (2.32.3)\n",
            "Requirement already satisfied: tqdm in /usr/local/lib/python3.11/dist-packages (from kagglehub) (4.67.1)\n",
            "Requirement already satisfied: charset-normalizer<4,>=2 in /usr/local/lib/python3.11/dist-packages (from requests->kagglehub) (3.4.2)\n",
            "Requirement already satisfied: idna<4,>=2.5 in /usr/local/lib/python3.11/dist-packages (from requests->kagglehub) (3.10)\n",
            "Requirement already satisfied: urllib3<3,>=1.21.1 in /usr/local/lib/python3.11/dist-packages (from requests->kagglehub) (2.4.0)\n",
            "Requirement already satisfied: certifi>=2017.4.17 in /usr/local/lib/python3.11/dist-packages (from requests->kagglehub) (2025.4.26)\n"
          ]
        }
      ],
      "source": [
        "!pip install kagglehub pyspark"
      ]
    },
    {
      "cell_type": "code",
      "execution_count": null,
      "metadata": {
        "colab": {
          "base_uri": "https://localhost:8080/"
        },
        "id": "--l4u5248W6B",
        "outputId": "fc63e91e-0d42-4f8b-cded-a0dd506022ac"
      },
      "outputs": [
        {
          "output_type": "stream",
          "name": "stdout",
          "text": [
            "Path to dataset files: /kaggle/input/amazon-books-reviews\n"
          ]
        }
      ],
      "source": [
        "import kagglehub\n",
        "\n",
        "path = kagglehub.dataset_download(\"mohamedbakhet/amazon-books-reviews\")\n",
        "\n",
        "print(\"Path to dataset files:\", path)"
      ]
    },
    {
      "cell_type": "code",
      "execution_count": null,
      "metadata": {
        "id": "e5nam1rS8W6B"
      },
      "outputs": [],
      "source": [
        "import pandas as pd\n",
        "from collections import defaultdict\n",
        "import hashlib\n",
        "import re\n",
        "import numpy as np\n",
        "from pyspark.sql.functions import udf\n",
        "from pyspark.sql.types import ArrayType, IntegerType\n",
        "from pyspark.sql import Row\n",
        "from pyspark.sql.functions import pandas_udf\n"
      ]
    },
    {
      "cell_type": "code",
      "execution_count": null,
      "metadata": {
        "id": "f6jhd27Z8W6B"
      },
      "outputs": [],
      "source": [
        "#import data\n",
        "df_data_raw = pd.read_csv(\"/kaggle/input/amazon-books-reviews/books_data.csv\")\n",
        "df_rating_raw = pd.read_csv(\"/kaggle/input/amazon-books-reviews/Books_rating.csv\")\n",
        "\n",
        "df_data_raw = df_data_raw.drop([\"image\", \"previewLink\",'infoLink'], axis = 1)"
      ]
    },
    {
      "cell_type": "code",
      "execution_count": null,
      "metadata": {
        "id": "JhqZv8S68W6C",
        "outputId": "81cb6333-5723-4b38-f165-976a3eb2ab0d",
        "colab": {
          "base_uri": "https://localhost:8080/",
          "height": 244
        }
      },
      "outputs": [
        {
          "output_type": "execute_result",
          "data": {
            "text/plain": [
              "                                               Title  \\\n",
              "1                           Dr. Seuss: American Icon   \n",
              "2              Wonderful Worship in Smaller Churches   \n",
              "3                      Whispers of the Wicked Saints   \n",
              "4  Nation Dance: Religion, Identity and Cultural ...   \n",
              "\n",
              "                                         description              authors  \\\n",
              "1  Philip Nel takes a fascinating look into the k...       ['Philip Nel']   \n",
              "2  This resource includes twelve principles in un...     ['David R. Ray']   \n",
              "3  Julia Thomas finds her life spinning out of co...  ['Veronica Haddon']   \n",
              "4                                                NaN      ['Edward Long']   \n",
              "\n",
              "   publisher publishedDate                     categories  ratingsCount  \n",
              "1  A&C Black    2005-01-01  ['Biography & Autobiography']           NaN  \n",
              "2        NaN          2000                   ['Religion']           NaN  \n",
              "3  iUniverse       2005-02                    ['Fiction']           NaN  \n",
              "4        NaN    2003-03-01                            NaN           NaN  "
            ],
            "text/html": [
              "\n",
              "  <div id=\"df-5a0e7d5b-f954-4f92-ba7e-77c63163e4f2\" class=\"colab-df-container\">\n",
              "    <div>\n",
              "<style scoped>\n",
              "    .dataframe tbody tr th:only-of-type {\n",
              "        vertical-align: middle;\n",
              "    }\n",
              "\n",
              "    .dataframe tbody tr th {\n",
              "        vertical-align: top;\n",
              "    }\n",
              "\n",
              "    .dataframe thead th {\n",
              "        text-align: right;\n",
              "    }\n",
              "</style>\n",
              "<table border=\"1\" class=\"dataframe\">\n",
              "  <thead>\n",
              "    <tr style=\"text-align: right;\">\n",
              "      <th></th>\n",
              "      <th>Title</th>\n",
              "      <th>description</th>\n",
              "      <th>authors</th>\n",
              "      <th>publisher</th>\n",
              "      <th>publishedDate</th>\n",
              "      <th>categories</th>\n",
              "      <th>ratingsCount</th>\n",
              "    </tr>\n",
              "  </thead>\n",
              "  <tbody>\n",
              "    <tr>\n",
              "      <th>1</th>\n",
              "      <td>Dr. Seuss: American Icon</td>\n",
              "      <td>Philip Nel takes a fascinating look into the k...</td>\n",
              "      <td>['Philip Nel']</td>\n",
              "      <td>A&amp;C Black</td>\n",
              "      <td>2005-01-01</td>\n",
              "      <td>['Biography &amp; Autobiography']</td>\n",
              "      <td>NaN</td>\n",
              "    </tr>\n",
              "    <tr>\n",
              "      <th>2</th>\n",
              "      <td>Wonderful Worship in Smaller Churches</td>\n",
              "      <td>This resource includes twelve principles in un...</td>\n",
              "      <td>['David R. Ray']</td>\n",
              "      <td>NaN</td>\n",
              "      <td>2000</td>\n",
              "      <td>['Religion']</td>\n",
              "      <td>NaN</td>\n",
              "    </tr>\n",
              "    <tr>\n",
              "      <th>3</th>\n",
              "      <td>Whispers of the Wicked Saints</td>\n",
              "      <td>Julia Thomas finds her life spinning out of co...</td>\n",
              "      <td>['Veronica Haddon']</td>\n",
              "      <td>iUniverse</td>\n",
              "      <td>2005-02</td>\n",
              "      <td>['Fiction']</td>\n",
              "      <td>NaN</td>\n",
              "    </tr>\n",
              "    <tr>\n",
              "      <th>4</th>\n",
              "      <td>Nation Dance: Religion, Identity and Cultural ...</td>\n",
              "      <td>NaN</td>\n",
              "      <td>['Edward Long']</td>\n",
              "      <td>NaN</td>\n",
              "      <td>2003-03-01</td>\n",
              "      <td>NaN</td>\n",
              "      <td>NaN</td>\n",
              "    </tr>\n",
              "  </tbody>\n",
              "</table>\n",
              "</div>\n",
              "    <div class=\"colab-df-buttons\">\n",
              "\n",
              "  <div class=\"colab-df-container\">\n",
              "    <button class=\"colab-df-convert\" onclick=\"convertToInteractive('df-5a0e7d5b-f954-4f92-ba7e-77c63163e4f2')\"\n",
              "            title=\"Convert this dataframe to an interactive table.\"\n",
              "            style=\"display:none;\">\n",
              "\n",
              "  <svg xmlns=\"http://www.w3.org/2000/svg\" height=\"24px\" viewBox=\"0 -960 960 960\">\n",
              "    <path d=\"M120-120v-720h720v720H120Zm60-500h600v-160H180v160Zm220 220h160v-160H400v160Zm0 220h160v-160H400v160ZM180-400h160v-160H180v160Zm440 0h160v-160H620v160ZM180-180h160v-160H180v160Zm440 0h160v-160H620v160Z\"/>\n",
              "  </svg>\n",
              "    </button>\n",
              "\n",
              "  <style>\n",
              "    .colab-df-container {\n",
              "      display:flex;\n",
              "      gap: 12px;\n",
              "    }\n",
              "\n",
              "    .colab-df-convert {\n",
              "      background-color: #E8F0FE;\n",
              "      border: none;\n",
              "      border-radius: 50%;\n",
              "      cursor: pointer;\n",
              "      display: none;\n",
              "      fill: #1967D2;\n",
              "      height: 32px;\n",
              "      padding: 0 0 0 0;\n",
              "      width: 32px;\n",
              "    }\n",
              "\n",
              "    .colab-df-convert:hover {\n",
              "      background-color: #E2EBFA;\n",
              "      box-shadow: 0px 1px 2px rgba(60, 64, 67, 0.3), 0px 1px 3px 1px rgba(60, 64, 67, 0.15);\n",
              "      fill: #174EA6;\n",
              "    }\n",
              "\n",
              "    .colab-df-buttons div {\n",
              "      margin-bottom: 4px;\n",
              "    }\n",
              "\n",
              "    [theme=dark] .colab-df-convert {\n",
              "      background-color: #3B4455;\n",
              "      fill: #D2E3FC;\n",
              "    }\n",
              "\n",
              "    [theme=dark] .colab-df-convert:hover {\n",
              "      background-color: #434B5C;\n",
              "      box-shadow: 0px 1px 3px 1px rgba(0, 0, 0, 0.15);\n",
              "      filter: drop-shadow(0px 1px 2px rgba(0, 0, 0, 0.3));\n",
              "      fill: #FFFFFF;\n",
              "    }\n",
              "  </style>\n",
              "\n",
              "    <script>\n",
              "      const buttonEl =\n",
              "        document.querySelector('#df-5a0e7d5b-f954-4f92-ba7e-77c63163e4f2 button.colab-df-convert');\n",
              "      buttonEl.style.display =\n",
              "        google.colab.kernel.accessAllowed ? 'block' : 'none';\n",
              "\n",
              "      async function convertToInteractive(key) {\n",
              "        const element = document.querySelector('#df-5a0e7d5b-f954-4f92-ba7e-77c63163e4f2');\n",
              "        const dataTable =\n",
              "          await google.colab.kernel.invokeFunction('convertToInteractive',\n",
              "                                                    [key], {});\n",
              "        if (!dataTable) return;\n",
              "\n",
              "        const docLinkHtml = 'Like what you see? Visit the ' +\n",
              "          '<a target=\"_blank\" href=https://colab.research.google.com/notebooks/data_table.ipynb>data table notebook</a>'\n",
              "          + ' to learn more about interactive tables.';\n",
              "        element.innerHTML = '';\n",
              "        dataTable['output_type'] = 'display_data';\n",
              "        await google.colab.output.renderOutput(dataTable, element);\n",
              "        const docLink = document.createElement('div');\n",
              "        docLink.innerHTML = docLinkHtml;\n",
              "        element.appendChild(docLink);\n",
              "      }\n",
              "    </script>\n",
              "  </div>\n",
              "\n",
              "\n",
              "    <div id=\"df-d873ccb4-2d83-4a23-83ed-e28ff0d2f552\">\n",
              "      <button class=\"colab-df-quickchart\" onclick=\"quickchart('df-d873ccb4-2d83-4a23-83ed-e28ff0d2f552')\"\n",
              "                title=\"Suggest charts\"\n",
              "                style=\"display:none;\">\n",
              "\n",
              "<svg xmlns=\"http://www.w3.org/2000/svg\" height=\"24px\"viewBox=\"0 0 24 24\"\n",
              "     width=\"24px\">\n",
              "    <g>\n",
              "        <path d=\"M19 3H5c-1.1 0-2 .9-2 2v14c0 1.1.9 2 2 2h14c1.1 0 2-.9 2-2V5c0-1.1-.9-2-2-2zM9 17H7v-7h2v7zm4 0h-2V7h2v10zm4 0h-2v-4h2v4z\"/>\n",
              "    </g>\n",
              "</svg>\n",
              "      </button>\n",
              "\n",
              "<style>\n",
              "  .colab-df-quickchart {\n",
              "      --bg-color: #E8F0FE;\n",
              "      --fill-color: #1967D2;\n",
              "      --hover-bg-color: #E2EBFA;\n",
              "      --hover-fill-color: #174EA6;\n",
              "      --disabled-fill-color: #AAA;\n",
              "      --disabled-bg-color: #DDD;\n",
              "  }\n",
              "\n",
              "  [theme=dark] .colab-df-quickchart {\n",
              "      --bg-color: #3B4455;\n",
              "      --fill-color: #D2E3FC;\n",
              "      --hover-bg-color: #434B5C;\n",
              "      --hover-fill-color: #FFFFFF;\n",
              "      --disabled-bg-color: #3B4455;\n",
              "      --disabled-fill-color: #666;\n",
              "  }\n",
              "\n",
              "  .colab-df-quickchart {\n",
              "    background-color: var(--bg-color);\n",
              "    border: none;\n",
              "    border-radius: 50%;\n",
              "    cursor: pointer;\n",
              "    display: none;\n",
              "    fill: var(--fill-color);\n",
              "    height: 32px;\n",
              "    padding: 0;\n",
              "    width: 32px;\n",
              "  }\n",
              "\n",
              "  .colab-df-quickchart:hover {\n",
              "    background-color: var(--hover-bg-color);\n",
              "    box-shadow: 0 1px 2px rgba(60, 64, 67, 0.3), 0 1px 3px 1px rgba(60, 64, 67, 0.15);\n",
              "    fill: var(--button-hover-fill-color);\n",
              "  }\n",
              "\n",
              "  .colab-df-quickchart-complete:disabled,\n",
              "  .colab-df-quickchart-complete:disabled:hover {\n",
              "    background-color: var(--disabled-bg-color);\n",
              "    fill: var(--disabled-fill-color);\n",
              "    box-shadow: none;\n",
              "  }\n",
              "\n",
              "  .colab-df-spinner {\n",
              "    border: 2px solid var(--fill-color);\n",
              "    border-color: transparent;\n",
              "    border-bottom-color: var(--fill-color);\n",
              "    animation:\n",
              "      spin 1s steps(1) infinite;\n",
              "  }\n",
              "\n",
              "  @keyframes spin {\n",
              "    0% {\n",
              "      border-color: transparent;\n",
              "      border-bottom-color: var(--fill-color);\n",
              "      border-left-color: var(--fill-color);\n",
              "    }\n",
              "    20% {\n",
              "      border-color: transparent;\n",
              "      border-left-color: var(--fill-color);\n",
              "      border-top-color: var(--fill-color);\n",
              "    }\n",
              "    30% {\n",
              "      border-color: transparent;\n",
              "      border-left-color: var(--fill-color);\n",
              "      border-top-color: var(--fill-color);\n",
              "      border-right-color: var(--fill-color);\n",
              "    }\n",
              "    40% {\n",
              "      border-color: transparent;\n",
              "      border-right-color: var(--fill-color);\n",
              "      border-top-color: var(--fill-color);\n",
              "    }\n",
              "    60% {\n",
              "      border-color: transparent;\n",
              "      border-right-color: var(--fill-color);\n",
              "    }\n",
              "    80% {\n",
              "      border-color: transparent;\n",
              "      border-right-color: var(--fill-color);\n",
              "      border-bottom-color: var(--fill-color);\n",
              "    }\n",
              "    90% {\n",
              "      border-color: transparent;\n",
              "      border-bottom-color: var(--fill-color);\n",
              "    }\n",
              "  }\n",
              "</style>\n",
              "\n",
              "      <script>\n",
              "        async function quickchart(key) {\n",
              "          const quickchartButtonEl =\n",
              "            document.querySelector('#' + key + ' button');\n",
              "          quickchartButtonEl.disabled = true;  // To prevent multiple clicks.\n",
              "          quickchartButtonEl.classList.add('colab-df-spinner');\n",
              "          try {\n",
              "            const charts = await google.colab.kernel.invokeFunction(\n",
              "                'suggestCharts', [key], {});\n",
              "          } catch (error) {\n",
              "            console.error('Error during call to suggestCharts:', error);\n",
              "          }\n",
              "          quickchartButtonEl.classList.remove('colab-df-spinner');\n",
              "          quickchartButtonEl.classList.add('colab-df-quickchart-complete');\n",
              "        }\n",
              "        (() => {\n",
              "          let quickchartButtonEl =\n",
              "            document.querySelector('#df-d873ccb4-2d83-4a23-83ed-e28ff0d2f552 button');\n",
              "          quickchartButtonEl.style.display =\n",
              "            google.colab.kernel.accessAllowed ? 'block' : 'none';\n",
              "        })();\n",
              "      </script>\n",
              "    </div>\n",
              "\n",
              "    </div>\n",
              "  </div>\n"
            ],
            "application/vnd.google.colaboratory.intrinsic+json": {
              "type": "dataframe",
              "summary": "{\n  \"name\": \"df_data_raw[1:5]\",\n  \"rows\": 4,\n  \"fields\": [\n    {\n      \"column\": \"Title\",\n      \"properties\": {\n        \"dtype\": \"string\",\n        \"num_unique_values\": 4,\n        \"samples\": [\n          \"Wonderful Worship in Smaller Churches\",\n          \"Nation Dance: Religion, Identity and Cultural Difference in the Caribbean\",\n          \"Dr. Seuss: American Icon\"\n        ],\n        \"semantic_type\": \"\",\n        \"description\": \"\"\n      }\n    },\n    {\n      \"column\": \"description\",\n      \"properties\": {\n        \"dtype\": \"string\",\n        \"num_unique_values\": 3,\n        \"samples\": [\n          \"Philip Nel takes a fascinating look into the key aspects of Seuss's career - his poetry, politics, art, marketing, and place in the popular imagination.\\\" \\\"Nel argues convincingly that Dr. Seuss is one of the most influential poets in America. His nonsense verse, like that of Lewis Carroll and Edward Lear, has changed language itself, giving us new words like \\\"nerd.\\\" And Seuss's famously loopy artistic style - what Nel terms an \\\"energetic cartoon surrealism\\\" - has been equally important, inspiring artists like filmmaker Tim Burton and illustrator Lane Smith. --from back cover\",\n          \"This resource includes twelve principles in understanding small church worship, fifteen practices for planning worship with fewer than 100 people, and suggestions for congregational study.\",\n          \"Julia Thomas finds her life spinning out of control after the death of her husband, Richard. Julia turns to her minister for comfort when she finds herself falling for him with a passion that is forbidden by the church. Heath Sparks is a man of God who is busy taking care of his quadriplegic wife who was seriously injured in a sever car accident. In an innocent effort to reach out to a lonely member of his church, Heath finds himself as the man and not the minister as Heath and Julia surrender their bodies to each other and face the wrath of God. Julia finds herself in over her head as she faces a deadly disease, the loss of her home and whispers about her wicked affair. Julia leaves the states offering her body as a living sacrifice in hopes of finding a cure while her heart remains thousands of miles away hoping to one day reunite with the man who holds it hostage.Whispers of the Wicked Saints is a once in a lifetime romance that is breath taking, defying all the rules of romance and bending the laws of love.\"\n        ],\n        \"semantic_type\": \"\",\n        \"description\": \"\"\n      }\n    },\n    {\n      \"column\": \"authors\",\n      \"properties\": {\n        \"dtype\": \"string\",\n        \"num_unique_values\": 4,\n        \"samples\": [\n          \"['David R. Ray']\",\n          \"['Edward Long']\",\n          \"['Philip Nel']\"\n        ],\n        \"semantic_type\": \"\",\n        \"description\": \"\"\n      }\n    },\n    {\n      \"column\": \"publisher\",\n      \"properties\": {\n        \"dtype\": \"string\",\n        \"num_unique_values\": 2,\n        \"samples\": [\n          \"iUniverse\",\n          \"A&C Black\"\n        ],\n        \"semantic_type\": \"\",\n        \"description\": \"\"\n      }\n    },\n    {\n      \"column\": \"publishedDate\",\n      \"properties\": {\n        \"dtype\": \"string\",\n        \"num_unique_values\": 4,\n        \"samples\": [\n          \"2000\",\n          \"2003-03-01\"\n        ],\n        \"semantic_type\": \"\",\n        \"description\": \"\"\n      }\n    },\n    {\n      \"column\": \"categories\",\n      \"properties\": {\n        \"dtype\": \"string\",\n        \"num_unique_values\": 3,\n        \"samples\": [\n          \"['Biography & Autobiography']\",\n          \"['Religion']\"\n        ],\n        \"semantic_type\": \"\",\n        \"description\": \"\"\n      }\n    },\n    {\n      \"column\": \"ratingsCount\",\n      \"properties\": {\n        \"dtype\": \"number\",\n        \"std\": null,\n        \"min\": null,\n        \"max\": null,\n        \"num_unique_values\": 0,\n        \"samples\": [],\n        \"semantic_type\": \"\",\n        \"description\": \"\"\n      }\n    }\n  ]\n}"
            }
          },
          "metadata": {},
          "execution_count": 6
        }
      ],
      "source": [
        "df_data_raw[1:5]"
      ]
    },
    {
      "cell_type": "code",
      "execution_count": null,
      "metadata": {
        "id": "MB609S4r8W6C",
        "outputId": "202983cc-fbe9-4114-d741-3818015355bf"
      },
      "outputs": [
        {
          "data": {
            "text/plain": [
              "\"I don't care much for Dr. Seuss but after reading Philip Nel's book I changed my mind--that's a good testimonial to the power of Rel's writing and thinking. Rel plays Dr. Seuss the ultimate compliment of treating him as a serious poet as well as one of the 20th century's most interesting visual artists, and after reading his book I decided that a trip to the Mandeville Collections of the library at University of California in San Diego was in order, so I could visit some of the incredible Seuss/Geisel holdings they have there.There's almost too much to take in, for, like William Butler Yeats, Seuss led a career that constantly shifted and metamoprhized itself to meet new historical and political cirsumstances, so he seems to have been both a leftist and a conservative at different junctures of his career, both in politics and in art. As Nel shows us, he was once a cartoonist for the fabled PM magazine and, like Andy Warhol, he served his time slaving in the ad business too. All was in the service of amusing and broadening the minds of US children. Nel doesn't hesitate to administer a sound spanking to the Seuss industry that, since his death, has seen fit to license all kinds of awful products including the recent CAT IN THE HAT film with Mike Myers. Oh, what a cat-astrophe!The book is great and I can especially recommend the work of the picture editor who has given us a bounty of good illustrations.\""
            ]
          },
          "execution_count": 3,
          "metadata": {},
          "output_type": "execute_result"
        }
      ],
      "source": [
        "df_rating_raw['review/text'][1]"
      ]
    },
    {
      "cell_type": "code",
      "execution_count": null,
      "metadata": {
        "id": "AZ323aja8W6C"
      },
      "outputs": [],
      "source": [
        "#Preprocessing\n",
        "def clean_text(text):\n",
        "    text = str(text).lower()\n",
        "    text = re.sub(r'[^\\w\\s]', '', text)\n",
        "    text = re.sub(r'\\s+', ' ', text)\n",
        "    return text.strip()\n",
        "\n",
        "df_rating_raw = df_rating_raw[1:400000]\n",
        "df_rating_raw['cleaned_text'] = df_rating_raw['review/text'].apply(clean_text)\n"
      ]
    },
    {
      "cell_type": "code",
      "execution_count": null,
      "metadata": {
        "id": "gDKB713I8W6C"
      },
      "outputs": [],
      "source": [
        "cleaned_df = df_rating_raw[['Title', 'cleaned_text']].copy()\n"
      ]
    },
    {
      "cell_type": "code",
      "source": [
        "cleaned_df.to_csv(\"cleaned_df.csv\")"
      ],
      "metadata": {
        "id": "iGxV4hKOAw0X"
      },
      "execution_count": null,
      "outputs": []
    },
    {
      "cell_type": "code",
      "source": [
        "from pyspark.sql.functions import col, udf\n",
        "from pyspark.sql.types import ArrayType, IntegerType\n",
        "from pyspark.sql import SparkSession\n",
        "\n",
        "spark = SparkSession.builder.getOrCreate()\n",
        "spark_df = spark.read.csv(\"/content/cleaned_df.csv\", header=True)\n",
        "\n",
        "@udf(ArrayType(IntegerType()))\n",
        "def spark_shingle_hash(text):\n",
        "    if not text:\n",
        "        return []\n",
        "    words = text.split()\n",
        "    return [int(hashlib.sha1(' '.join(words[i:i+5]).encode()).hexdigest()[:8], 16)\n",
        "            for i in range(len(words)-4)]\n",
        "\n",
        "\n",
        "spark_df = spark_df.withColumn(\"hashed_shingles_5\", spark_shingle_hash(col(\"cleaned_text\")))"
      ],
      "metadata": {
        "id": "yY15JdTX_lAq"
      },
      "execution_count": null,
      "outputs": []
    },
    {
      "cell_type": "code",
      "execution_count": null,
      "metadata": {
        "id": "dUXT4saN8W6D"
      },
      "outputs": [],
      "source": [
        "# cleaned_df = pd.read_csv(\"new_data.csv\")\n",
        "# cleaned_df = cleaned_df.reset_index()"
      ]
    },
    {
      "cell_type": "code",
      "execution_count": null,
      "metadata": {
        "id": "bYNgz09J8W6D"
      },
      "outputs": [],
      "source": [
        "#sort shingle for min hash optimization step\n",
        "# cleaned_df = cleaned_df.sort_values('hashed_shingles_5')\n",
        "@pandas_udf(ArrayType(IntegerType()))\n",
        "def sort_shingles_udf(shingles_series: pd.Series) -> pd.Series:\n",
        "    return shingles_series.apply(lambda x: sorted(x) if x is not None and len(x) > 0 else [])\n",
        "\n",
        "\n",
        "spark_df = spark_df.withColumn(\"sorted_shingles\", sort_shingles_udf(col(\"hashed_shingles_5\")))\n"
      ]
    },
    {
      "cell_type": "code",
      "execution_count": null,
      "metadata": {
        "colab": {
          "base_uri": "https://localhost:8080/"
        },
        "id": "lfrUBKng8W6D",
        "outputId": "cbb9613b-4f8f-4816-ac33-5a50d0fe215d"
      },
      "outputs": [
        {
          "output_type": "execute_result",
          "data": {
            "text/plain": [
              "399999"
            ]
          },
          "metadata": {},
          "execution_count": 33
        }
      ],
      "source": [
        "spark_df = spark_df.drop(\"hashed_shingles_5\")\n",
        "spark_df.count()"
      ]
    },
    {
      "cell_type": "code",
      "source": [
        "# Minhash signature implementation\n",
        "# a trade-off between accuracy and computational cost, according to the graph https://ekzhu.com/datasketch/minhash.html, 110 is a balance number for mh acc and mh performance\n",
        "review_minhashes = {}\n",
        "\n",
        "class CustomMinHash:\n",
        "    def __init__(self, num_perm=110):\n",
        "        self.num_perm = num_perm\n",
        "        self.max_hash = (1 << 32) - 1\n",
        "        self.permutations = self._generate_permutations()\n",
        "\n",
        "    def _generate_permutations(self):\n",
        "        \"\"\"Generate random hash functions of form h(x) = (a*x + b) % prime\"\"\"\n",
        "        np.random.seed(42)\n",
        "        a = np.random.randint(1, self.max_hash, size=self.num_perm)\n",
        "        b = np.random.randint(0, self.max_hash, size=self.num_perm)\n",
        "        return list(zip(a, b))\n",
        "\n",
        "    def _hash_func(self, x, a, b):\n",
        "        \"\"\"Universal hash function implementation\"\"\"\n",
        "        return (a * x + b) % self.max_hash\n",
        "\n",
        "    def compute_signature(self, hashed_shingles):\n",
        "        \"\"\"Compute MinHash signature for a list of hashed shingles\"\"\"\n",
        "        signature = np.full(self.num_perm, np.inf)\n",
        "\n",
        "        for shingle in hashed_shingles:\n",
        "            x = int(shingle)\n",
        "            for i, (a, b) in enumerate(self.permutations):\n",
        "                hash_val = self._hash_func(x, a, b)\n",
        "                if hash_val < signature[i]:\n",
        "                    signature[i] = hash_val\n",
        "\n",
        "        return [int(x) for x in signature]\n",
        "\n",
        "custom_minhash = CustomMinHash(num_perm=110)\n",
        "\n",
        "@udf(ArrayType(IntegerType()))\n",
        "def compute_minhash_signature(hashed_shingles):\n",
        "    if not hashed_shingles:\n",
        "        return [0] * 110\n",
        "    return custom_minhash.compute_signature(hashed_shingles)\n",
        "\n",
        "spark_df = spark_df.withColumn(\n",
        "    \"minhash_signature\",\n",
        "    compute_minhash_signature(\"sorted_shingles\")\n",
        ")\n",
        "\n",
        "spark_df.select(\"_c0\", \"minhash_signature\").show(5, truncate=False)"
      ],
      "metadata": {
        "colab": {
          "base_uri": "https://localhost:8080/"
        },
        "id": "5ZEyV63HN5l_",
        "outputId": "7fbee585-3706-4995-99a0-b98ec489b867"
      },
      "execution_count": null,
      "outputs": [
        {
          "output_type": "stream",
          "name": "stdout",
          "text": [
            "+---+----------------------------------------------------------------------------------------------------------------------------------------------------------------------------------------------------------------------------------------------------------------------------------------------------------------------------------------------------------------------------------------------------------------------------------------------------------------------------------------------------------------------------------------------------------------------------------------------------------------------------------------------------------------------------------------------------------------------------------------------------------------------------------------------------------------------------------------------------------------------------------------------------------------------------------------------------------------------------------------------------------------------------------------------------------------------------------------+\n",
            "|_c0|minhash_signature                                                                                                                                                                                                                                                                                                                                                                                                                                                                                                                                                                                                                                                                                                                                                                                                                                                                                                                                                                                                                                                                       |\n",
            "+---+----------------------------------------------------------------------------------------------------------------------------------------------------------------------------------------------------------------------------------------------------------------------------------------------------------------------------------------------------------------------------------------------------------------------------------------------------------------------------------------------------------------------------------------------------------------------------------------------------------------------------------------------------------------------------------------------------------------------------------------------------------------------------------------------------------------------------------------------------------------------------------------------------------------------------------------------------------------------------------------------------------------------------------------------------------------------------------------+\n",
            "|1  |[40972482, 9086688, 11365188, 6290896, 1510499, 8438561, 7612229, 53209324, 59068323, 43643949, 905328, 54718831, 1871102, 41822821, 1101319, 14061694, 12247815, 3769516, 4379050, 7655246, 4582997, 178610, 31334454, 3574798, 4144636, 8372054, 22480364, 14974158, 6799523, 31285866, 14418738, 13368624, 16380623, 41778739, 26400193, 18097672, 5451590, 6705647, 5420448, 27552370, 9666652, 39304522, 41883561, 10978018, 2282667, 3248842, 19549068, 23755973, 5718848, 6270337, 20127217, 2613980, 794399, 32506952, 1103851, 7983058, 13638119, 29021963, 7873947, 24372702, 6607516, 1741669, 1894875, 1994643, 18561665, 37944682, 1041403, 3397710, 9054350, 1144201, 32382446, 22198367, 15698346, 59333554, 7900998, 5260021, 44244564, 7333396, 9664063, 15527297, 1526562, 14037671, 27013581, 18932577, 8466407, 58412865, 3650738, 320802, 3798295, 22174438, 13502606, 1669511, 13596469, 8801453, 28534759, 10268535, 6983277, 18930459, 34556646, 12256436, 5254672, 33917338, 68440343, 15169036, 9447084, 8260971, 10325963, 87818193, 13797881, 8391146]      |\n",
            "|2  |[1044576, 3423477, 35268472, 2179006, 39900177, 53813666, 10067783, 5137204, 5906500, 4493916, 4754241, 9057346, 33557048, 33491731, 40584670, 2045583, 7203435, 8730823, 7666938, 17799587, 15987132, 17024699, 4586545, 28101511, 12883576, 25076173, 7839353, 110043693, 7013389, 4463621, 20085607, 4873437, 16363653, 9932919, 8328763, 21786632, 11615615, 52400339, 10217632, 3059002, 32843008, 50184983, 12456040, 17887103, 1813858, 35446249, 20498331, 1590323, 35466264, 26231026, 8257698, 17239700, 11725616, 32084407, 18876586, 23616173, 23517826, 4602353, 5491245, 25044159, 14073151, 16226087, 10913757, 24936472, 6165568, 4006240, 6444763, 22691302, 21658830, 23433794, 586268, 98464347, 230551, 9481571, 32774660, 13565926, 10158828, 4371883, 882733, 6397796, 224857, 47937468, 13438518, 3827391, 34703387, 6361734, 3750708, 63877454, 2227330, 13897088, 6301084, 151931, 654296, 2135363, 16962880, 12797457, 11012301, 8913724, 19668198, 20570021, 35822412, 13231984, 39749511, 12649291, 5675109, 7571417, 21063196, 51559981, 20565167, 2346118]|\n",
            "|3  |[3709626, 2965521, 6829742, 6581926, 5286025, 567257, 739999, 4206334, 2037690, 5581320, 11674666, 17880246, 1386458, 13084126, 1485804, 2544573, 1390563, 775186, 21001295, 7518660, 2703277, 7424234, 381717, 1280125, 615646, 20203686, 3209903, 13348543, 4157773, 15223266, 1158758, 13364030, 12385005, 22168919, 2577991, 19399847, 6542315, 4046894, 106754, 23875670, 6629536, 4136440, 1981530, 13330458, 8253798, 12190834, 9231813, 6699713, 1839505, 640735, 10341845, 2719635, 6852174, 6716222, 29235027, 5234583, 7647533, 787358, 3669618, 1405999, 1249201, 11024070, 533961, 32774403, 18926487, 749629, 4346220, 3744705, 19025309, 6972187, 1479431, 19245572, 13245666, 330731, 14663723, 3178216, 1860801, 12002673, 2065687, 13694414, 4857282, 3234032, 6067305, 2565669, 854513, 827424, 13785058, 263485, 7462624, 3985167, 7860960, 17116307, 2578765, 3459433, 7192557, 6738930, 13566970, 7108354, 8051826, 13023791, 885271, 813163, 4776869, 12003376, 11794899, 6268449, 195022, 1702654, 4943823, 7268261]                                            |\n",
            "|4  |[5614606, 19882044, 8150175, 8656041, 65027408, 1397912, 12673910, 22217464, 14460506, 3670131, 7474937, 5393351, 18081257, 3716426, 14616809, 12331983, 2083986, 19750997, 48408577, 4160194, 31809462, 14227337, 11448704, 12495913, 5662411, 12037240, 10896854, 14142568, 1168669, 31628516, 2022937, 19258872, 18428342, 1682124, 10290910, 8867357, 813800, 20243759, 10911766, 1328620, 13569655, 16729113, 71741525, 14236278, 20845018, 2296015, 14387298, 77955808, 5900840, 12518824, 3054619, 6397855, 18775944, 3886957, 50413457, 1904368, 33850915, 13480283, 14822805, 34289637, 12290293, 1939601, 3833175, 9030462, 5131512, 22848643, 17652622, 25316866, 358969, 31199464, 2206184, 5820477, 6073681, 9951798, 9965008, 8611966, 13870640, 19157754, 11053984, 11848316, 565382, 14543198, 22268052, 3376865, 16245830, 12411684, 32475743, 23649170, 10534198, 30790121, 17647771, 11395085, 13879281, 9384163, 15550121, 11131929, 24603325, 4600314, 5844477, 680651, 19087147, 15062064, 688764, 7203409, 6661262, 5170213, 879467, 11865133, 2383574, 12782208]|\n",
            "|5  |[47359973, 5932572, 11552564, 8912106, 18182304, 13266482, 41108165, 15548824, 46366099, 2135847, 14071520, 15725216, 798173, 7610246, 1223324, 17570106, 11118519, 17962747, 23014940, 2913401, 4423447, 10941839, 3160552, 6931339, 9033346, 12712795, 5999423, 21981963, 8239489, 2719916, 1546966, 12615142, 11765022, 1464044, 14119996, 8999932, 725195, 21806942, 25159899, 19278754, 16049062, 3137874, 36947085, 12945288, 11082139, 20753668, 3116436, 5798453, 3472950, 1393897, 16807482, 23776345, 18677322, 3438632, 10075132, 17016008, 14364148, 3975443, 242637, 436890, 7307338, 9551675, 24548907, 10620706, 2331365, 16992763, 2943515, 8123025, 43402714, 13891344, 9235772, 1185247, 7370081, 4735460, 5787026, 44350261, 6301795, 1217379, 24821716, 11273852, 981722, 1041314, 10960872, 1740402, 12113888, 26156070, 2281373, 8271552, 4791769, 15139967, 12307436, 24759695, 6876266, 25204933, 700541, 1894926, 35317132, 318634, 18378357, 1910531, 27073424, 13232339, 16304355, 1688263, 36670361, 3011938, 11100808, 4916969, 3870514, 6087541]          |\n",
            "+---+----------------------------------------------------------------------------------------------------------------------------------------------------------------------------------------------------------------------------------------------------------------------------------------------------------------------------------------------------------------------------------------------------------------------------------------------------------------------------------------------------------------------------------------------------------------------------------------------------------------------------------------------------------------------------------------------------------------------------------------------------------------------------------------------------------------------------------------------------------------------------------------------------------------------------------------------------------------------------------------------------------------------------------------------------------------------------------------+\n",
            "only showing top 5 rows\n",
            "\n"
          ]
        }
      ]
    },
    {
      "cell_type": "code",
      "execution_count": null,
      "metadata": {
        "id": "ObwWCDPG8W6E"
      },
      "outputs": [],
      "source": [
        "#compute LSH n = 110, b = 22, r = 5 -> t about 0.53 dont care about false negative\n",
        "# LSH Banding Implementation\n",
        "# from datasketch import MinHashLSH\n",
        "\n",
        "# lsh = MinHashLSH(threshold=0.53, num_perm=110)  # num_perm = b*r = 22*5 = 110\n",
        "\n",
        "# for review, mh in review_minhashes.items():\n",
        "#     lsh.insert(review, mh)\n",
        "\n",
        "# candidate_pairs = set()\n",
        "# for review in review_minhashes:\n",
        "#     matches = lsh.query(review_minhashes[review])\n",
        "#     for match in matches:\n",
        "#         if match != review:\n",
        "#             candidate_pairs.add(tuple(sorted((review, match))))\n",
        "\n"
      ]
    },
    {
      "cell_type": "code",
      "execution_count": null,
      "metadata": {
        "colab": {
          "base_uri": "https://localhost:8080/"
        },
        "id": "VH7L4nQC8W6E",
        "outputId": "c5fb40a5-8321-4826-a3ec-5a0ed6eff52a"
      },
      "outputs": [
        {
          "output_type": "stream",
          "name": "stdout",
          "text": [
            "Found 136984 candidate pairs\n"
          ]
        }
      ],
      "source": [
        "#Create LSH from scratch\n",
        "class CustomLSH:\n",
        "    def __init__(self, threshold=0.53, num_perm=110):\n",
        "        self.num_perm = num_perm\n",
        "        self.b, self.r = self._optimal_bands(threshold)\n",
        "        self.hash_tables = [defaultdict(set) for _ in range(self.b)]\n",
        "\n",
        "    def _optimal_bands(self, threshold):\n",
        "        \"\"\"Calculate optimal bands (b) and rows (r) for target threshold\"\"\"\n",
        "        # Solve for (1/b)^(1/r) ≈ threshold\n",
        "        best_b, best_r = 22, 5\n",
        "        return best_b, best_r\n",
        "\n",
        "    def _get_band_hashes(self, signature):\n",
        "        \"\"\"Split signature into bands and compute band hashes\"\"\"\n",
        "        bands = []\n",
        "        for band_idx in range(self.b):\n",
        "            start = band_idx * self.r\n",
        "            end = start + self.r\n",
        "            band = tuple(signature[start:end])\n",
        "            band_hash = hash(band)\n",
        "            bands.append((band_idx, band_hash))\n",
        "        return bands\n",
        "\n",
        "    def insert(self, doc_id, signature):\n",
        "        \"\"\"Insert document into LSH index\"\"\"\n",
        "        for band_idx, band_hash in self._get_band_hashes(signature):\n",
        "            self.hash_tables[band_idx][band_hash].add(doc_id)\n",
        "\n",
        "    def query(self, signature):\n",
        "        \"\"\"Find candidate matches for a document\"\"\"\n",
        "        candidates = set()\n",
        "        for band_idx, band_hash in self._get_band_hashes(signature):\n",
        "            candidates.update(self.hash_tables[band_idx].get(band_hash, set()))\n",
        "        return candidates\n",
        "\n",
        "custom_lsh = CustomLSH(threshold=0.53, num_perm=110)\n",
        "\n",
        "\n",
        "for row in spark_df.select('_c0', 'minhash_signature').collect():\n",
        "    custom_lsh.insert(row['_c0'], row['minhash_signature'])\n",
        "\n",
        "\n"
      ]
    },
    {
      "cell_type": "code",
      "execution_count": null,
      "metadata": {
        "id": "QycbFBRQ8W6E"
      },
      "outputs": [],
      "source": [
        "# Find all candidate pairs\n",
        "candidate_pairs = set()\n",
        "for row in spark_df.select('_c0', 'minhash_signature').collect():\n",
        "    doc_id = row['_c0']\n",
        "    matches = custom_lsh.query(row['minhash_signature'])\n",
        "    for match in matches:\n",
        "        if match != doc_id:\n",
        "            candidate_pairs.add(frozenset({doc_id, match}))\n",
        "\n",
        "print(f\"Found {len(candidate_pairs)} candidate pairs\")"
      ]
    },
    {
      "cell_type": "code",
      "execution_count": null,
      "metadata": {
        "id": "Wyq5HY4u8W6E",
        "colab": {
          "base_uri": "https://localhost:8080/"
        },
        "outputId": "7b0d08db-c408-4e64-8169-ec6cf708907a"
      },
      "outputs": [
        {
          "output_type": "execute_result",
          "data": {
            "text/plain": [
              "[frozenset({'103134', '94993'}),\n",
              " frozenset({'297646', '94595'}),\n",
              " frozenset({'379261', '57594'}),\n",
              " frozenset({'294075', '388275'}),\n",
              " frozenset({'315497', '349664'}),\n",
              " frozenset({'204389', '282851'}),\n",
              " frozenset({'93658', '93864'}),\n",
              " frozenset({'103066', '389260'}),\n",
              " frozenset({'29314', '29316'}),\n",
              " frozenset({'115224', '82166'}),\n",
              " frozenset({'115232', '234535'}),\n",
              " frozenset({'10252', '7308'}),\n",
              " frozenset({'71964', '82818'}),\n",
              " frozenset({'103207', '290899'}),\n",
              " frozenset({'387051', '387282'}),\n",
              " frozenset({'115256', '361412'}),\n",
              " frozenset({'313322', '77596'}),\n",
              " frozenset({'115252', '388274'}),\n",
              " frozenset({'136736', '136848'}),\n",
              " frozenset({'134068', '294848'}),\n",
              " frozenset({'102203', '1033'}),\n",
              " frozenset({'103325', '95144'}),\n",
              " frozenset({'159713', '368912'}),\n",
              " frozenset({'159810', '357223'}),\n",
              " frozenset({'220365', '286205'}),\n",
              " frozenset({'368069', '368609'}),\n",
              " frozenset({'290359', '94470'}),\n",
              " frozenset({'220360', '31344'}),\n",
              " frozenset({'255525', '82050'}),\n",
              " frozenset({'104249', '294075'}),\n",
              " frozenset({'115270', '298286'}),\n",
              " frozenset({'120393', '363464'}),\n",
              " frozenset({'160080', '188917'}),\n",
              " frozenset({'115267', '82830'}),\n",
              " frozenset({'255525', '294066'}),\n",
              " frozenset({'158947', '189081'}),\n",
              " frozenset({'282347', '284092'}),\n",
              " frozenset({'372905', '42170'}),\n",
              " frozenset({'290487', '94644'}),\n",
              " frozenset({'115229', '115262'}),\n",
              " frozenset({'115233', '294074'}),\n",
              " frozenset({'115235', '115267'}),\n",
              " frozenset({'129323', '129396'}),\n",
              " frozenset({'187771', '326050'}),\n",
              " frozenset({'220360', '383347'}),\n",
              " frozenset({'226572', '45546'}),\n",
              " frozenset({'290401', '389233'}),\n",
              " frozenset({'38482', '6597'}),\n",
              " frozenset({'26772', '8451'}),\n",
              " frozenset({'103346', '206125'}),\n",
              " frozenset({'62153', '62154'}),\n",
              " frozenset({'115234', '388282'}),\n",
              " frozenset({'157610', '294068'}),\n",
              " frozenset({'340917', '347706'}),\n",
              " frozenset({'187574', '93287'}),\n",
              " frozenset({'220446', '379769'}),\n",
              " frozenset({'290202', '93237'}),\n",
              " frozenset({'115212', '115266'}),\n",
              " frozenset({'110964', '77222'}),\n",
              " frozenset({'35171', '64882'}),\n",
              " frozenset({'158946', '357027'}),\n",
              " frozenset({'255072', '255087'}),\n",
              " frozenset({'225674', '246294'}),\n",
              " frozenset({'50955', '51002'}),\n",
              " frozenset({'117306', '13570'}),\n",
              " frozenset({'183058', '90876'}),\n",
              " frozenset({'107268', '233460'}),\n",
              " frozenset({'103530', '286380'}),\n",
              " frozenset({'117395', '13851'}),\n",
              " frozenset({'112381', '115241'}),\n",
              " frozenset({'294076', '29839'}),\n",
              " frozenset({'163946', '220368'}),\n",
              " frozenset({'389163', '95128'}),\n",
              " frozenset({'163478', '199434'}),\n",
              " frozenset({'388275', '51723'}),\n",
              " frozenset({'108895', '3237'}),\n",
              " frozenset({'393584', '7048'}),\n",
              " frozenset({'104933', '104944'}),\n",
              " frozenset({'294070', '306920'}),\n",
              " frozenset({'115238', '294061'}),\n",
              " frozenset({'278945', '337584'}),\n",
              " frozenset({'270072', '69241'}),\n",
              " frozenset({'294071', '78727'}),\n",
              " frozenset({'104249', '352706'}),\n",
              " frozenset({'289912', '378387'}),\n",
              " frozenset({'29681', '76228'}),\n",
              " frozenset({'313413', '39612'}),\n",
              " frozenset({'221950', '287160'}),\n",
              " frozenset({'237418', '70088'}),\n",
              " frozenset({'379767', '73630'}),\n",
              " frozenset({'108926', '164861'}),\n",
              " frozenset({'50954', '86681'}),\n",
              " frozenset({'187675', '41011'}),\n",
              " frozenset({'103691', '388603'}),\n",
              " frozenset({'337302', '58965'}),\n",
              " frozenset({'70311', '8451'}),\n",
              " frozenset({'17230', '61512'}),\n",
              " frozenset({'254433', '82166'}),\n",
              " frozenset({'115233', '378523'}),\n",
              " frozenset({'201472', '374620'})]"
            ]
          },
          "metadata": {},
          "execution_count": 48
        }
      ],
      "source": [
        "first_20_pairs = list(candidate_pairs)[:100]\n",
        "first_20_pairs"
      ]
    },
    {
      "cell_type": "code",
      "source": [],
      "metadata": {
        "id": "KqrPhOgqFZhl"
      },
      "execution_count": null,
      "outputs": []
    }
  ],
  "metadata": {
    "kernelspec": {
      "display_name": "Python 3",
      "language": "python",
      "name": "python3"
    },
    "language_info": {
      "codemirror_mode": {
        "name": "ipython",
        "version": 3
      },
      "file_extension": ".py",
      "mimetype": "text/x-python",
      "name": "python",
      "nbconvert_exporter": "python",
      "pygments_lexer": "ipython3",
      "version": "3.12.0"
    },
    "colab": {
      "provenance": []
    }
  },
  "nbformat": 4,
  "nbformat_minor": 0
}